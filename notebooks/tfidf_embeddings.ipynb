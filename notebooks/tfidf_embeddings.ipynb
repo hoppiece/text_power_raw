{
 "cells": [
  {
   "cell_type": "code",
   "execution_count": 2,
   "metadata": {},
   "outputs": [
    {
     "name": "stdout",
     "output_type": "stream",
     "text": [
      "TF-IDF matrix shape: (36718, 1000)\n"
     ]
    }
   ],
   "source": [
    "from sklearn.feature_extraction.text import TfidfVectorizer\n",
    "from datasets import load_dataset\n",
    "import numpy as np\n",
    "\n",
    "# WikiTextデータセットのロード\n",
    "dataset = load_dataset(\"wikitext\", \"wikitext-2-raw-v1\", split=\"train\")\n",
    "\n",
    "# 文書データをリストとして取得\n",
    "documents = dataset['text']\n",
    "\n",
    "# TF-IDFベクトライザーの初期化\n",
    "vectorizer = TfidfVectorizer(max_features=1000)  # max_featuresで上位1万語に制限\n",
    "\n",
    "# TF-IDF行列の作成\n",
    "tfidf_matrix = vectorizer.fit_transform(documents)\n",
    "\n",
    "# 行列の保存 (例: Numpyで保存)\n",
    "tfidf_array = tfidf_matrix.toarray()\n",
    "np.save(\"wikitext_tfidf_embeddings.npy\", tfidf_array)\n",
    "\n",
    "print(f\"TF-IDF matrix shape: {tfidf_array.shape}\")\n"
   ]
  }
 ],
 "metadata": {
  "kernelspec": {
   "display_name": ".venv",
   "language": "python",
   "name": "python3"
  },
  "language_info": {
   "codemirror_mode": {
    "name": "ipython",
    "version": 3
   },
   "file_extension": ".py",
   "mimetype": "text/x-python",
   "name": "python",
   "nbconvert_exporter": "python",
   "pygments_lexer": "ipython3",
   "version": "3.11.9"
  }
 },
 "nbformat": 4,
 "nbformat_minor": 2
}
