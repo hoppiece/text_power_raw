{
 "cells": [
  {
   "cell_type": "code",
   "execution_count": 1,
   "metadata": {},
   "outputs": [
    {
     "name": "stderr",
     "output_type": "stream",
     "text": [
      "/home/shinzato/git/text_power_raw/.venv/lib/python3.11/site-packages/transformers/tokenization_utils_base.py:1601: FutureWarning: `clean_up_tokenization_spaces` was not set. It will be set to `True` by default. This behavior will be depracted in transformers v4.45, and will be then set to `False` by default. For more details check this issue: https://github.com/huggingface/transformers/issues/31884\n",
      "  warnings.warn(\n"
     ]
    },
    {
     "name": "stdout",
     "output_type": "stream",
     "text": [
      "Total embeddings: 36718, Embedding dimension: 768\n"
     ]
    }
   ],
   "source": [
    "import torch\n",
    "from transformers import GPT2Model, GPT2Tokenizer\n",
    "from datasets import load_dataset, load_from_disk\n",
    "from torch.utils.data import DataLoader\n",
    "\n",
    "# GPUが利用可能であれば使用\n",
    "device = torch.device(\"cuda:3\" if torch.cuda.is_available() else \"cpu\")\n",
    "\n",
    "# GPT-2モデルとトークナイザーのロード\n",
    "model_name = \"gpt2\"\n",
    "model = GPT2Model.from_pretrained(model_name).to(device)\n",
    "tokenizer = GPT2Tokenizer.from_pretrained(model_name)\n",
    "\n",
    "if tokenizer.pad_token is None:\n",
    "    tokenizer.add_special_tokens({'pad_token': '[PAD]'})\n",
    "    model.resize_token_embeddings(len(tokenizer))\n",
    "\n",
    "# WikiTextデータセットのロード\n",
    "#dataset = load_dataset(\"wikitext\", \"wikitext-2-raw-v1\", split=\"train\")\n",
    "dataset = load_from_disk(\"wikitext-alpha-2.0\")\n",
    "\n",
    "\n",
    "# バッチ処理のためにデータローダーを設定\n",
    "batch_size = 32\n",
    "dataloader = DataLoader(dataset, batch_size=batch_size, shuffle=False)\n",
    "\n",
    "def embed_batch(batch):\n",
    "    texts = batch[\"text\"]\n",
    "    # トークナイズし、最大シーケンス長にパディング\n",
    "    inputs = tokenizer(texts, return_tensors=\"pt\", padding=True, truncation=True).to(device)\n",
    "    \n",
    "    # GPT-2モデルで文の埋め込みを取得\n",
    "    with torch.no_grad():\n",
    "        outputs = model(**inputs)\n",
    "    \n",
    "    # 文の埋め込みを平均化して取得\n",
    "    sentence_embeddings = outputs.last_hidden_state.mean(dim=1)\n",
    "    return sentence_embeddings.cpu()\n",
    "\n",
    "# バッチごとに文埋め込みを計算し、保存\n",
    "all_embeddings = []\n",
    "for batch in dataloader:\n",
    "    embeddings = embed_batch(batch)\n",
    "    all_embeddings.append(embeddings)\n",
    "\n",
    "# リストをTensorに変換\n",
    "all_embeddings = torch.cat(all_embeddings)\n",
    "\n",
    "# 埋め込みを保存する (例: torch.save で保存)\n",
    "#torch.save(all_embeddings, \"wikitext_gpt2_embeddings.pt\")\n",
    "torch.save(all_embeddings, \"wikitext-alpha-2.0_gpt2_embeddings.pt\")\n",
    "\n",
    "print(f\"Total embeddings: {all_embeddings.size(0)}, Embedding dimension: {all_embeddings.size(1)}\")\n",
    "\n"
   ]
  }
 ],
 "metadata": {
  "kernelspec": {
   "display_name": ".venv",
   "language": "python",
   "name": "python3"
  },
  "language_info": {
   "codemirror_mode": {
    "name": "ipython",
    "version": 3
   },
   "file_extension": ".py",
   "mimetype": "text/x-python",
   "name": "python",
   "nbconvert_exporter": "python",
   "pygments_lexer": "ipython3",
   "version": "3.11.9"
  }
 },
 "nbformat": 4,
 "nbformat_minor": 2
}
