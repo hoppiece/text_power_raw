{
 "cells": [
  {
   "cell_type": "code",
   "execution_count": 2,
   "metadata": {},
   "outputs": [
    {
     "name": "stdout",
     "output_type": "stream",
     "text": [
      "Total embeddings: 36718, Embedding dimension: 300\n"
     ]
    }
   ],
   "source": [
    "import gensim\n",
    "import gensim.downloader as api\n",
    "import numpy as np\n",
    "from datasets import load_dataset\n",
    "\n",
    "# Google News Word2Vecモデルのロード\n",
    "model_path = \"GoogleNews-vectors-negative300.bin.gz\"\n",
    "word2vec_model = gensim.models.KeyedVectors.load_word2vec_format(model_path, binary=True)\n",
    "\n",
    "# WikiTextデータセットのロード\n",
    "dataset = load_dataset(\"wikitext\", \"wikitext-2-raw-v1\", split=\"train\")\n",
    "\n",
    "def embed_sentence(sentence):\n",
    "    # 文の各単語をベクトルに変換し、平均を取る\n",
    "    words = sentence.split()\n",
    "    word_vectors = []\n",
    "    for word in words:\n",
    "        if word in word2vec_model:\n",
    "            word_vectors.append(word2vec_model[word])\n",
    "    \n",
    "    if word_vectors:\n",
    "        sentence_embedding = np.mean(word_vectors, axis=0)\n",
    "    else:\n",
    "        # もし文のすべての単語がモデルに存在しない場合、ゼロベクトルを使用\n",
    "        sentence_embedding = np.zeros(300)\n",
    "        \n",
    "    \n",
    "    return sentence_embedding\n",
    "\n",
    "# 文埋め込みを計算\n",
    "embeddings = np.array([embed_sentence(sentence) for sentence in dataset['text']])\n",
    "\n",
    "# 埋め込みを保存する (例: numpyで保存)\n",
    "np.save(\"wikitext_word2vec_embeddings.npy\", embeddings)\n",
    "\n",
    "print(f\"Total embeddings: {embeddings.shape[0]}, Embedding dimension: {embeddings.shape[1]}\")\n"
   ]
  }
 ],
 "metadata": {
  "kernelspec": {
   "display_name": ".venv",
   "language": "python",
   "name": "python3"
  },
  "language_info": {
   "codemirror_mode": {
    "name": "ipython",
    "version": 3
   },
   "file_extension": ".py",
   "mimetype": "text/x-python",
   "name": "python",
   "nbconvert_exporter": "python",
   "pygments_lexer": "ipython3",
   "version": "3.11.9"
  }
 },
 "nbformat": 4,
 "nbformat_minor": 2
}
